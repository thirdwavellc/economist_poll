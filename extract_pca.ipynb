{
 "cells": [
  {
   "cell_type": "code",
   "execution_count": 177,
   "metadata": {},
   "outputs": [],
   "source": [
    "import numpy as np                          # library to support matrix computations\n",
    "import pandas as pd                         # library for data manipulation and analysis\n",
    "import json\n",
    "from os import listdir\n",
    "import re\n",
    "from scipy.linalg import eig                # linear algebra functions\n",
    "import matplotlib.pyplot as plt\n",
    "from string import ascii_uppercase\n",
    "import unidecode\n",
    "from pprint import pprint\n"
   ]
  },
  {
   "cell_type": "code",
   "execution_count": 178,
   "metadata": {},
   "outputs": [],
   "source": [
    "def pca(X):\n",
    "    ''' Principal Components Analysis '''\n",
    "    cov_matrix = np.cov(X.T) # Transpose b/c np.cov assumes row vars.\n",
    "    evals, evecs = eig(cov_matrix)\n",
    "    idcs = np.argsort(evals)[::-1]\n",
    "    evecs = evecs.real[:, idcs]\n",
    "    evals = evals.real[idcs]\n",
    "\n",
    "    return evecs, evals"
   ]
  },
  {
   "cell_type": "code",
   "execution_count": 179,
   "metadata": {},
   "outputs": [],
   "source": [
    "def to_slug(x):\n",
    "    return x.lower().replace(' ','_')\n"
   ]
  },
  {
   "cell_type": "code",
   "execution_count": 180,
   "metadata": {},
   "outputs": [],
   "source": [
    "def preprocess(df):\n",
    "\n",
    "    old_vals = ['Strongly Disagree',\n",
    "                'Disagree',\n",
    "                'Uncertain',\n",
    "                'Agree',\n",
    "                'Strongly Agree',\n",
    "                'No Opinion',\n",
    "                'Did Not Answer',\n",
    "                'Did Not Vote',\n",
    "                'Did not answer',\n",
    "                None]\n",
    "    new_vals = [-1.5,\n",
    "                -1,\n",
    "                0,\n",
    "                1,\n",
    "                1.5,\n",
    "                np.nan,\n",
    "                np.nan,\n",
    "                np.nan,\n",
    "                np.nan,\n",
    "                np.nan]\n",
    "\n",
    "    df = df.replace(old_vals, new_vals)\n",
    "\n",
    "    # Only retain responders with > 75% response rate\n",
    "    num_questions = len(df.columns)\n",
    "    df = df[df.notnull().sum(axis=1) > (num_questions * 0.75)]\n",
    "\n",
    "    # Replace remaining nans with the column mean\n",
    "    df = df.fillna(df.mean())\n",
    "\n",
    "    df = df.sort_index()\n",
    "    return df"
   ]
  },
  {
   "cell_type": "code",
   "execution_count": 181,
   "metadata": {},
   "outputs": [],
   "source": [
    "year = '2021'\n",
    "survey_dir = 'surveys'"
   ]
  },
  {
   "cell_type": "code",
   "execution_count": 182,
   "metadata": {},
   "outputs": [],
   "source": [
    "fnames_to_slugs = {\n",
    "'2021-01-01-US-EEP-Bah-Humbug.csv':'bah-humbug',\n",
    "'2021-01-01-US-EEP-Balanced-Budget-Amendment.csv':'balanced-budget-amendment',\n",
    "'2021-01-01-US-EEP-Baumols-Cost-Disease.csv':'baumols-cost-disease',\n",
    "'2021-01-01-US-EEP-Breaking-Up-Large-Tech-Companies.csv':'breaking-up-large-tech-companies',\n",
    "'2021-01-01-US-EEP-College-Admissions.csv':'college-admissions'\n",
    "}"
   ]
  },
  {
   "cell_type": "code",
   "execution_count": 183,
   "metadata": {},
   "outputs": [
    {
     "name": "stdout",
     "output_type": "stream",
     "text": [
      "-----\n",
      "                   1. Giving specific presents as holiday gifts is inefficient, because recipients could satisfy their preferences much better with cash.  \\\n",
      "First Name                                                                                                                                                  \n",
      "Daron Acemoglu1                                              Disagree                                                                                       \n",
      "Alberto Alesina2                                    Strongly Disagree                                                                                       \n",
      "Joseph Altonji3                                              Disagree                                                                                       \n",
      "Alan Auerbach4                                              Uncertain                                                                                       \n",
      "David Autor5                                                 Disagree                                                                                       \n",
      "David Autor6                                                 Disagree                                                                                       \n",
      "Katherine Baicker7                                     Strongly Agree                                                                                       \n",
      "\n",
      "                   2. Amending the Constitution to require that the federal government end each fiscal year without a deficit would substantially reduce output variability in the United States.  \\\n",
      "First Name                                                                                                                                                                                          \n",
      "Daron Acemoglu1                                     Strongly Disagree                                                                                                                               \n",
      "Alberto Alesina2                                    Strongly Disagree                                                                                                                               \n",
      "Joseph Altonji3                                     Strongly Disagree                                                                                                                               \n",
      "Alan Auerbach4                                      Strongly Disagree                                                                                                                               \n",
      "David Autor5                                                Uncertain                                                                                                                               \n",
      "David Autor6                                                Uncertain                                                                                                                               \n",
      "Katherine Baicker7                                     Strongly Agree                                                                                                                               \n",
      "\n",
      "                   3. Because labor markets across different sectors are connected, rising productivity in manufacturing leads the cost of labor-intensive services — such as education and health care — to rise.  \\\n",
      "First Name                                                                                                                                                                                                           \n",
      "Daron Acemoglu1                                                 Agree                                                                                                                                                \n",
      "Alberto Alesina2                                                Agree                                                                                                                                                \n",
      "Joseph Altonji3                                        Strongly Agree                                                                                                                                                \n",
      "Alan Auerbach4                                                  Agree                                                                                                                                                \n",
      "David Autor5                                                    Agree                                                                                                                                                \n",
      "David Autor6                                                 Disagree                                                                                                                                                \n",
      "Katherine Baicker7                                              Agree                                                                                                                                                \n",
      "\n",
      "                   4. Large tech platforms, such as Amazon Marketplace and Google Search, should be designated as ‘platform utilities' and broken apart from any participant on that platform.  \\\n",
      "First Name                                                                                                                                                                                       \n",
      "Daron Acemoglu1                                                 Agree                                                                                                                            \n",
      "Alberto Alesina2                                       Did Not Answer                                                                                                                            \n",
      "Joseph Altonji3                                             Uncertain                                                                                                                            \n",
      "Alan Auerbach4                                               Disagree                                                                                                                            \n",
      "David Autor5                                                 Disagree                                                                                                                            \n",
      "David Autor6                                                 Disagree                                                                                                                            \n",
      "Katherine Baicker7                                     Strongly Agree                                                                                                                            \n",
      "\n",
      "                   5. The net effect of admitting children of alumni and donors (including any impact on donations and any losses of other high potential applicants) is likely to be a reduction in the contribution of colleges and universities to society.  \n",
      "First Name                                                                                                                                                                                                                                                      \n",
      "Daron Acemoglu1                                        Did Not Answer                                                                                                                                                                                           \n",
      "Alberto Alesina2                                            Uncertain                                                                                                                                                                                           \n",
      "Joseph Altonji3                                              Disagree                                                                                                                                                                                           \n",
      "Alan Auerbach4                                               Disagree                                                                                                                                                                                           \n",
      "David Autor5                                                Uncertain                                                                                                                                                                                           \n",
      "David Autor6                                                Uncertain                                                                                                                                                                                           \n",
      "Katherine Baicker7                                     Strongly Agree                                                                                                                                                                                           \n",
      "-----\n",
      "<class 'pandas.core.frame.DataFrame'>\n"
     ]
    }
   ],
   "source": [
    "fnames = sorted(fnames_to_slugs.keys())\n",
    "qdfs = []\n",
    "slugs = []\n",
    "answers = {}\n",
    "for fname in fnames:\n",
    "    # pprint(survey_dir)\n",
    "    qdf = pd.read_csv(survey_dir + '/' + fname)\n",
    "    qdf = qdf.set_index(qdf['First Name'].str.cat(qdf['Last Name'], sep=' '))\n",
    "    drop_columns = [col for col in qdf.columns if 'Confidence in this topic' in col or 'Please explain your' in col or 'Unnamed' in col]\n",
    "    drop_columns += ['First Name', 'Last Name']\n",
    "    qdf = qdf.drop(columns=drop_columns)\n",
    "    qdf = qdf[qdf.index.notnull()]\n",
    "    n_cols = len(qdf.columns)\n",
    "    if n_cols > 1:\n",
    "        qdf.columns = [f\"Part {ascii_uppercase[i]}: {col}\" for i, col in enumerate(qdf.columns)]\n",
    "    qdfs += [qdf]\n",
    "    for col in qdf.columns:\n",
    "        slugs += [fnames_to_slugs[fname]]\n",
    "df = pd.concat(qdfs, axis=1)\n",
    "df.columns = [f\"{i+1}. {col}\" for i, col in enumerate(df.columns)]      # what does the final data strucutre look like?\n",
    "print('-----')\n",
    "pprint(df)\n",
    "print('-----')\n",
    "print(type(df))\n"
   ]
  },
  {
   "cell_type": "code",
   "execution_count": 189,
   "metadata": {},
   "outputs": [
    {
     "name": "stdout",
     "output_type": "stream",
     "text": [
      "Index(['alan_auerbach4', 'alberto_alesina2', 'daron_acemoglu1', 'david_autor5',\n",
      "       'david_autor6', 'joseph_altonji3', 'katherine_baicker7'],\n",
      "      dtype='object', name='First Name')\n"
     ]
    }
   ],
   "source": [
    "df = preprocess(df)\n",
    "# print(df.iloc[:,1].to_json())\n",
    "# print(df.iloc[:, 0].to_json())\n",
    "# df = df.replace(old_vals, slugs)\n",
    "df2=df\n",
    "df2.columns=slugs\n",
    "df2.index = df2.index.map(to_slug)\n",
    "# print(df2.index)\n",
    "# df2=df2.transpose()\n",
    "# print(df2.to_json())"
   ]
  },
  {
   "cell_type": "code",
   "execution_count": 166,
   "metadata": {},
   "outputs": [
    {
     "name": "stdout",
     "output_type": "stream",
     "text": [
      "bah-humbug\n",
      "balanced-budget-amendment\n",
      "baumols-cost-disease\n",
      "breaking-up-large-tech-companies\n",
      "college-admissions\n"
     ]
    }
   ],
   "source": [
    "for slug in slugs:\n",
    "    print(slug)"
   ]
  },
  {
   "cell_type": "code",
   "execution_count": 167,
   "metadata": {},
   "outputs": [],
   "source": [
    "X_raw = np.array(df).astype(float)\n",
    "q_means = X_raw.mean(axis=0)\n",
    "q_sds = X_raw.std(axis=0)\n"
   ]
  },
  {
   "cell_type": "code",
   "execution_count": 168,
   "metadata": {},
   "outputs": [],
   "source": [
    "# Separate responder IDs from row names\n",
    "responder_ids = list(range(len(df)))\n",
    "\n",
    "# Compute +/- 2SD for each question. For yellow highlights.\n",
    "X_raw = np.array(df).astype(float)\n",
    "q_means = X_raw.mean(axis=0)\n",
    "q_sds = X_raw.std(axis=0)\n",
    "igm_top_range =    2 * q_sds # Responses will be centered with q_means in .js\n",
    "igm_bot_range = (-2) * q_sds # Responses will be centered with q_means in .js\n",
    "\n",
    "# Centering the questions\n",
    "X = X_raw - X_raw.mean(axis=0)\n",
    "\n",
    "# Run PCA and compute 2D projection\n",
    "evecs, evals = pca(X)"
   ]
  },
  {
   "cell_type": "code",
   "execution_count": 169,
   "metadata": {},
   "outputs": [
    {
     "name": "stdout",
     "output_type": "stream",
     "text": [
      "[[ 1.0136163   0.03396907]\n",
      " [ 0.97787907  0.37691571]\n",
      " [ 0.35132514  1.12929269]\n",
      " [ 0.12855503 -0.77159051]\n",
      " [ 0.08000165 -2.04363819]\n",
      " [ 1.15535377  0.86160564]\n",
      " [-3.70673095  0.41344559]]\n"
     ]
    }
   ],
   "source": [
    "# Sign flipping so politically left is on the left\n",
    "if year == '2021':\n",
    "    evecs[:,0] = evecs[:,0] #X\n",
    "    evecs[:,1] = -evecs[:,1]\n",
    "\n",
    "# Compute each economists projection in 2D space.\n",
    "proj = np.dot(X, evecs[:, 0:2])\n",
    "print(proj)\n",
    "# User info dict\n",
    "user_info = {'name': 'You',\n",
    "             'x': 0,\n",
    "             'y': 0,\n",
    "             'responder_id': 0}"
   ]
  },
  {
   "cell_type": "code",
   "execution_count": 170,
   "metadata": {},
   "outputs": [],
   "source": [
    "# Get correlation matrix, sorted by position on x-axis.\n",
    "pc1_order = np.argsort(proj[:, 0])\n",
    "corr_mat = np.corrcoef(X_raw[pc1_order, :])\n",
    "\n",
    "# List of responder info dicts, including user dict\n",
    "points = [user_info]\n",
    "assert(len(df)==len(proj))\n",
    "for i in range(len(proj)):\n",
    "    responder_info = {'name': df.index[i],\n",
    "                      'x': proj[i, 0],\n",
    "                      'y': proj[i, 1],\n",
    "                      'short_name': unidecode.unidecode(df.index[i].lower().replace(' ', '-')),\n",
    "                      'pc1_order': int(np.argwhere(pc1_order == i))}\n",
    "    points.append(responder_info)"
   ]
  },
  {
   "cell_type": "code",
   "execution_count": 171,
   "metadata": {},
   "outputs": [],
   "source": [
    "out = {}\n",
    "out['points'] = points\n",
    "out['q_slugs'] = slugs\n",
    "out['questions'] = [re.sub(r\"\\(0+\", \"(\", col) for col in df.columns]\n",
    "out['answers'] = df2.to_dict()\n",
    "out['q_means'] = list(q_means)\n",
    "out['xweights'] = list(evecs[:, 0])\n",
    "out['yweights'] = list(evecs[:, 1])\n",
    "out['X'] = [['%.2f' % el for el in row] for row in X.tolist()]\n",
    "out['corr_mat'] = [['%.2f' % el for el in row]\n",
    "                   for row in corr_mat.tolist()]\n",
    "out['igm_top_range'] = ['%.2f' % el for el in igm_top_range]\n",
    "out['igm_bot_range'] = ['%.2f' % el for el in igm_bot_range]"
   ]
  },
  {
   "cell_type": "code",
   "execution_count": 172,
   "metadata": {},
   "outputs": [
    {
     "data": {
      "image/png": "[encoded data removed]",
      "text/plain": [
       "<Figure size 432x288 with 1 Axes>"
      ]
     },
     "metadata": {
      "needs_background": "light"
     },
     "output_type": "display_data"
    }
   ],
   "source": [
    "# Write to file\n",
    "f = open(\"pca_results_test_\" + year + \".json\", \"w\")\n",
    "json.dump(out, f, indent=2)\n",
    "f.close()\n",
    "\n",
    "# Plot responders in 2D space\n",
    "plt.figure()\n",
    "plt.scatter(proj[:, 0], proj[:, 1])\n",
    "plt.show()"
   ]
  },
  {
   "cell_type": "code",
   "execution_count": null,
   "metadata": {},
   "outputs": [],
   "source": []
  }
 ],
 "metadata": {
  "interpreter": {
   "hash": "aee8b7b246df8f9039afb4144a1f6fd8d2ca17a180786b69acc140d282b71a49"
  },
  "kernelspec": {
   "display_name": "igm",
   "language": "python",
   "name": "igm"
  },
  "language_info": {
   "codemirror_mode": {
    "name": "ipython",
    "version": 3
   },
   "file_extension": ".py",
   "mimetype": "text/x-python",
   "name": "python",
   "nbconvert_exporter": "python",
   "pygments_lexer": "ipython3",
   "version": "3.9.4"
  }
 },
 "nbformat": 4,
 "nbformat_minor": 4
}
